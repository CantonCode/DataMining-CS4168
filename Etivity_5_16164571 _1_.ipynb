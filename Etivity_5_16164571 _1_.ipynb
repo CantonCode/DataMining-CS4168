{
  "nbformat": 4,
  "nbformat_minor": 0,
  "metadata": {
    "colab": {
      "name": "Etivity 5 - 16164571",
      "provenance": [],
      "toc_visible": true
    },
    "kernelspec": {
      "name": "python3",
      "display_name": "Python 3"
    },
    "language_info": {
      "name": "python"
    }
  },
  "cells": [
    {
      "cell_type": "code",
      "metadata": {
        "id": "ikCcGgggZXiq"
      },
      "source": [
        "import pandas as pd\n",
        "import numpy as np\n",
        "from sklearn.pipeline import Pipeline, make_pipeline, FeatureUnion\n",
        "from sklearn.compose import ColumnTransformer\n",
        "from sklearn.base import BaseEstimator, TransformerMixin\n",
        "from sklearn.preprocessing import StandardScaler, RobustScaler, FunctionTransformer\n",
        "from sklearn.model_selection import train_test_split, GridSearchCV\n",
        "import pickle\n",
        "import matplotlib.pyplot as plt\n",
        "%matplotlib inline\n",
        "\n",
        "# imports necessary for dimensionality reduction\n",
        "from sklearn.decomposition import PCA, KernelPCA\n",
        "from sklearn.feature_selection import RFE\n",
        "from sklearn import datasets, cluster\n",
        "from sklearn.manifold import LocallyLinearEmbedding\n",
        "from sklearn.discriminant_analysis import LinearDiscriminantAnalysis\n",
        "from sklearn.decomposition import FastICA \n",
        "from sklearn import svm\n",
        "\n",
        "# regression algorithms\n",
        "from sklearn.ensemble import RandomForestRegressor\n",
        "from sklearn.linear_model import LinearRegression\n",
        "from sklearn.neighbors import KNeighborsRegressor\n",
        "\n",
        "# metrics for evaluating regression models\n",
        "from sklearn.metrics import mean_squared_error, mean_absolute_error, r2_score"
      ],
      "execution_count": 3,
      "outputs": []
    },
    {
      "cell_type": "markdown",
      "metadata": {
        "id": "4aPp0wEsZwi2"
      },
      "source": [
        "# Data Examination\n"
      ]
    },
    {
      "cell_type": "markdown",
      "metadata": {
        "id": "ksVvuxuPZ4z2"
      },
      "source": [
        "A quick examination of the data set is performed\n"
      ]
    },
    {
      "cell_type": "code",
      "metadata": {
        "colab": {
          "base_uri": "https://localhost:8080/",
          "height": 202
        },
        "id": "IdgjLzYoZzSB",
        "outputId": "9315c0d7-ee80-4a16-cec5-dee24df23844"
      },
      "source": [
        "df = pd.read_csv(\"./insurance.csv\")\n",
        "df.head()"
      ],
      "execution_count": 4,
      "outputs": [
        {
          "output_type": "execute_result",
          "data": {
            "text/html": [
              "<div>\n",
              "<style scoped>\n",
              "    .dataframe tbody tr th:only-of-type {\n",
              "        vertical-align: middle;\n",
              "    }\n",
              "\n",
              "    .dataframe tbody tr th {\n",
              "        vertical-align: top;\n",
              "    }\n",
              "\n",
              "    .dataframe thead th {\n",
              "        text-align: right;\n",
              "    }\n",
              "</style>\n",
              "<table border=\"1\" class=\"dataframe\">\n",
              "  <thead>\n",
              "    <tr style=\"text-align: right;\">\n",
              "      <th></th>\n",
              "      <th>age</th>\n",
              "      <th>gender</th>\n",
              "      <th>bmi</th>\n",
              "      <th>children</th>\n",
              "      <th>smoker</th>\n",
              "      <th>region</th>\n",
              "      <th>insurance_cost</th>\n",
              "    </tr>\n",
              "  </thead>\n",
              "  <tbody>\n",
              "    <tr>\n",
              "      <th>0</th>\n",
              "      <td>18</td>\n",
              "      <td>male</td>\n",
              "      <td>33.770</td>\n",
              "      <td>1</td>\n",
              "      <td>no</td>\n",
              "      <td>southeast</td>\n",
              "      <td>1725.55230</td>\n",
              "    </tr>\n",
              "    <tr>\n",
              "      <th>1</th>\n",
              "      <td>18</td>\n",
              "      <td>male</td>\n",
              "      <td>34.100</td>\n",
              "      <td>0</td>\n",
              "      <td>no</td>\n",
              "      <td>southeast</td>\n",
              "      <td>1137.01100</td>\n",
              "    </tr>\n",
              "    <tr>\n",
              "      <th>2</th>\n",
              "      <td>18</td>\n",
              "      <td>female</td>\n",
              "      <td>26.315</td>\n",
              "      <td>0</td>\n",
              "      <td>no</td>\n",
              "      <td>northeast</td>\n",
              "      <td>2198.18985</td>\n",
              "    </tr>\n",
              "    <tr>\n",
              "      <th>3</th>\n",
              "      <td>18</td>\n",
              "      <td>female</td>\n",
              "      <td>38.665</td>\n",
              "      <td>2</td>\n",
              "      <td>no</td>\n",
              "      <td>northeast</td>\n",
              "      <td>3393.35635</td>\n",
              "    </tr>\n",
              "    <tr>\n",
              "      <th>4</th>\n",
              "      <td>18</td>\n",
              "      <td>female</td>\n",
              "      <td>35.625</td>\n",
              "      <td>0</td>\n",
              "      <td>no</td>\n",
              "      <td>northeast</td>\n",
              "      <td>2211.13075</td>\n",
              "    </tr>\n",
              "  </tbody>\n",
              "</table>\n",
              "</div>"
            ],
            "text/plain": [
              "   age  gender     bmi  children smoker     region  insurance_cost\n",
              "0   18    male  33.770         1     no  southeast      1725.55230\n",
              "1   18    male  34.100         0     no  southeast      1137.01100\n",
              "2   18  female  26.315         0     no  northeast      2198.18985\n",
              "3   18  female  38.665         2     no  northeast      3393.35635\n",
              "4   18  female  35.625         0     no  northeast      2211.13075"
            ]
          },
          "metadata": {
            "tags": []
          },
          "execution_count": 4
        }
      ]
    },
    {
      "cell_type": "code",
      "metadata": {
        "colab": {
          "base_uri": "https://localhost:8080/",
          "height": 202
        },
        "id": "atDvvYUFZ8iL",
        "outputId": "9b769230-e637-40f1-fdbc-5770b595c79a"
      },
      "source": [
        "df.tail()\n"
      ],
      "execution_count": 5,
      "outputs": [
        {
          "output_type": "execute_result",
          "data": {
            "text/html": [
              "<div>\n",
              "<style scoped>\n",
              "    .dataframe tbody tr th:only-of-type {\n",
              "        vertical-align: middle;\n",
              "    }\n",
              "\n",
              "    .dataframe tbody tr th {\n",
              "        vertical-align: top;\n",
              "    }\n",
              "\n",
              "    .dataframe thead th {\n",
              "        text-align: right;\n",
              "    }\n",
              "</style>\n",
              "<table border=\"1\" class=\"dataframe\">\n",
              "  <thead>\n",
              "    <tr style=\"text-align: right;\">\n",
              "      <th></th>\n",
              "      <th>age</th>\n",
              "      <th>gender</th>\n",
              "      <th>bmi</th>\n",
              "      <th>children</th>\n",
              "      <th>smoker</th>\n",
              "      <th>region</th>\n",
              "      <th>insurance_cost</th>\n",
              "    </tr>\n",
              "  </thead>\n",
              "  <tbody>\n",
              "    <tr>\n",
              "      <th>1333</th>\n",
              "      <td>64</td>\n",
              "      <td>female</td>\n",
              "      <td>31.825</td>\n",
              "      <td>2</td>\n",
              "      <td>no</td>\n",
              "      <td>northeast</td>\n",
              "      <td>16069.08475</td>\n",
              "    </tr>\n",
              "    <tr>\n",
              "      <th>1334</th>\n",
              "      <td>64</td>\n",
              "      <td>female</td>\n",
              "      <td>26.885</td>\n",
              "      <td>0</td>\n",
              "      <td>yes</td>\n",
              "      <td>northwest</td>\n",
              "      <td>29330.98315</td>\n",
              "    </tr>\n",
              "    <tr>\n",
              "      <th>1335</th>\n",
              "      <td>64</td>\n",
              "      <td>male</td>\n",
              "      <td>26.410</td>\n",
              "      <td>0</td>\n",
              "      <td>no</td>\n",
              "      <td>northeast</td>\n",
              "      <td>14394.55790</td>\n",
              "    </tr>\n",
              "    <tr>\n",
              "      <th>1336</th>\n",
              "      <td>64</td>\n",
              "      <td>male</td>\n",
              "      <td>36.960</td>\n",
              "      <td>2</td>\n",
              "      <td>yes</td>\n",
              "      <td>southeast</td>\n",
              "      <td>49577.66240</td>\n",
              "    </tr>\n",
              "    <tr>\n",
              "      <th>1337</th>\n",
              "      <td>64</td>\n",
              "      <td>male</td>\n",
              "      <td>23.760</td>\n",
              "      <td>0</td>\n",
              "      <td>yes</td>\n",
              "      <td>southeast</td>\n",
              "      <td>26926.51440</td>\n",
              "    </tr>\n",
              "  </tbody>\n",
              "</table>\n",
              "</div>"
            ],
            "text/plain": [
              "      age  gender     bmi  children smoker     region  insurance_cost\n",
              "1333   64  female  31.825         2     no  northeast     16069.08475\n",
              "1334   64  female  26.885         0    yes  northwest     29330.98315\n",
              "1335   64    male  26.410         0     no  northeast     14394.55790\n",
              "1336   64    male  36.960         2    yes  southeast     49577.66240\n",
              "1337   64    male  23.760         0    yes  southeast     26926.51440"
            ]
          },
          "metadata": {
            "tags": []
          },
          "execution_count": 5
        }
      ]
    },
    {
      "cell_type": "markdown",
      "metadata": {
        "id": "WOLoN0OhawE8"
      },
      "source": [
        "I just performed a quixk check in all the categorical columns to get a feel for the ratio of data representation"
      ]
    },
    {
      "cell_type": "code",
      "metadata": {
        "colab": {
          "base_uri": "https://localhost:8080/"
        },
        "id": "lv57MMbhaDPd",
        "outputId": "df232dd7-2dee-4f2d-92cb-1c2b8012222d"
      },
      "source": [
        "df['gender'].value_counts()"
      ],
      "execution_count": 6,
      "outputs": [
        {
          "output_type": "execute_result",
          "data": {
            "text/plain": [
              "male      676\n",
              "female    662\n",
              "Name: gender, dtype: int64"
            ]
          },
          "metadata": {
            "tags": []
          },
          "execution_count": 6
        }
      ]
    },
    {
      "cell_type": "code",
      "metadata": {
        "colab": {
          "base_uri": "https://localhost:8080/"
        },
        "id": "R0csBic6apRY",
        "outputId": "3b88117d-be69-48dc-e0b2-9ba7c9858402"
      },
      "source": [
        "df['region'].value_counts()"
      ],
      "execution_count": 7,
      "outputs": [
        {
          "output_type": "execute_result",
          "data": {
            "text/plain": [
              "southeast    364\n",
              "northwest    325\n",
              "southwest    325\n",
              "northeast    324\n",
              "Name: region, dtype: int64"
            ]
          },
          "metadata": {
            "tags": []
          },
          "execution_count": 7
        }
      ]
    },
    {
      "cell_type": "code",
      "metadata": {
        "colab": {
          "base_uri": "https://localhost:8080/"
        },
        "id": "_I2grWTraqnL",
        "outputId": "22e22e04-ac7a-4859-c47b-a06542017158"
      },
      "source": [
        "df['smoker'].value_counts()"
      ],
      "execution_count": 8,
      "outputs": [
        {
          "output_type": "execute_result",
          "data": {
            "text/plain": [
              "no     1064\n",
              "yes     274\n",
              "Name: smoker, dtype: int64"
            ]
          },
          "metadata": {
            "tags": []
          },
          "execution_count": 8
        }
      ]
    },
    {
      "cell_type": "code",
      "metadata": {
        "colab": {
          "base_uri": "https://localhost:8080/"
        },
        "id": "3D1vZXRoauv5",
        "outputId": "fa0306c5-790b-4cca-9115-16549b4eabea"
      },
      "source": [
        "df.isna().sum()"
      ],
      "execution_count": 9,
      "outputs": [
        {
          "output_type": "execute_result",
          "data": {
            "text/plain": [
              "age               0\n",
              "gender            0\n",
              "bmi               0\n",
              "children          0\n",
              "smoker            0\n",
              "region            0\n",
              "insurance_cost    0\n",
              "dtype: int64"
            ]
          },
          "metadata": {
            "tags": []
          },
          "execution_count": 9
        }
      ]
    },
    {
      "cell_type": "markdown",
      "metadata": {
        "id": "pznkeNDKa5n1"
      },
      "source": [
        "Quick check for missing values but doesnt appear to be any"
      ]
    },
    {
      "cell_type": "code",
      "metadata": {
        "colab": {
          "base_uri": "https://localhost:8080/",
          "height": 294
        },
        "id": "m7D4IHFea-cc",
        "outputId": "a5834623-5896-489b-a3ed-0062bb706993"
      },
      "source": [
        "df.describe()"
      ],
      "execution_count": 10,
      "outputs": [
        {
          "output_type": "execute_result",
          "data": {
            "text/html": [
              "<div>\n",
              "<style scoped>\n",
              "    .dataframe tbody tr th:only-of-type {\n",
              "        vertical-align: middle;\n",
              "    }\n",
              "\n",
              "    .dataframe tbody tr th {\n",
              "        vertical-align: top;\n",
              "    }\n",
              "\n",
              "    .dataframe thead th {\n",
              "        text-align: right;\n",
              "    }\n",
              "</style>\n",
              "<table border=\"1\" class=\"dataframe\">\n",
              "  <thead>\n",
              "    <tr style=\"text-align: right;\">\n",
              "      <th></th>\n",
              "      <th>age</th>\n",
              "      <th>bmi</th>\n",
              "      <th>children</th>\n",
              "      <th>insurance_cost</th>\n",
              "    </tr>\n",
              "  </thead>\n",
              "  <tbody>\n",
              "    <tr>\n",
              "      <th>count</th>\n",
              "      <td>1338.000000</td>\n",
              "      <td>1338.000000</td>\n",
              "      <td>1338.000000</td>\n",
              "      <td>1338.000000</td>\n",
              "    </tr>\n",
              "    <tr>\n",
              "      <th>mean</th>\n",
              "      <td>39.207025</td>\n",
              "      <td>30.663397</td>\n",
              "      <td>1.094918</td>\n",
              "      <td>13270.422265</td>\n",
              "    </tr>\n",
              "    <tr>\n",
              "      <th>std</th>\n",
              "      <td>14.049960</td>\n",
              "      <td>6.098187</td>\n",
              "      <td>1.205493</td>\n",
              "      <td>12110.011237</td>\n",
              "    </tr>\n",
              "    <tr>\n",
              "      <th>min</th>\n",
              "      <td>18.000000</td>\n",
              "      <td>15.960000</td>\n",
              "      <td>0.000000</td>\n",
              "      <td>1121.873900</td>\n",
              "    </tr>\n",
              "    <tr>\n",
              "      <th>25%</th>\n",
              "      <td>27.000000</td>\n",
              "      <td>26.296250</td>\n",
              "      <td>0.000000</td>\n",
              "      <td>4740.287150</td>\n",
              "    </tr>\n",
              "    <tr>\n",
              "      <th>50%</th>\n",
              "      <td>39.000000</td>\n",
              "      <td>30.400000</td>\n",
              "      <td>1.000000</td>\n",
              "      <td>9382.033000</td>\n",
              "    </tr>\n",
              "    <tr>\n",
              "      <th>75%</th>\n",
              "      <td>51.000000</td>\n",
              "      <td>34.693750</td>\n",
              "      <td>2.000000</td>\n",
              "      <td>16639.912515</td>\n",
              "    </tr>\n",
              "    <tr>\n",
              "      <th>max</th>\n",
              "      <td>64.000000</td>\n",
              "      <td>53.130000</td>\n",
              "      <td>5.000000</td>\n",
              "      <td>63770.428010</td>\n",
              "    </tr>\n",
              "  </tbody>\n",
              "</table>\n",
              "</div>"
            ],
            "text/plain": [
              "               age          bmi     children  insurance_cost\n",
              "count  1338.000000  1338.000000  1338.000000     1338.000000\n",
              "mean     39.207025    30.663397     1.094918    13270.422265\n",
              "std      14.049960     6.098187     1.205493    12110.011237\n",
              "min      18.000000    15.960000     0.000000     1121.873900\n",
              "25%      27.000000    26.296250     0.000000     4740.287150\n",
              "50%      39.000000    30.400000     1.000000     9382.033000\n",
              "75%      51.000000    34.693750     2.000000    16639.912515\n",
              "max      64.000000    53.130000     5.000000    63770.428010"
            ]
          },
          "metadata": {
            "tags": []
          },
          "execution_count": 10
        }
      ]
    },
    {
      "cell_type": "markdown",
      "metadata": {
        "id": "Yo1pQd9DbWOZ"
      },
      "source": [
        "`Children` has a min value of 0. However this could be very possible."
      ]
    },
    {
      "cell_type": "markdown",
      "metadata": {
        "id": "MbULNbuSbtNd"
      },
      "source": [
        "Other categories attributes look good with no ovbious outlires. Maybe in `insurance_cost`"
      ]
    },
    {
      "cell_type": "code",
      "metadata": {
        "colab": {
          "base_uri": "https://localhost:8080/",
          "height": 415
        },
        "id": "ZFkKc8EXb4A7",
        "outputId": "8fbd3e7a-70c8-4294-bd93-4d781745961b"
      },
      "source": [
        "df[df.children == 0]"
      ],
      "execution_count": 11,
      "outputs": [
        {
          "output_type": "execute_result",
          "data": {
            "text/html": [
              "<div>\n",
              "<style scoped>\n",
              "    .dataframe tbody tr th:only-of-type {\n",
              "        vertical-align: middle;\n",
              "    }\n",
              "\n",
              "    .dataframe tbody tr th {\n",
              "        vertical-align: top;\n",
              "    }\n",
              "\n",
              "    .dataframe thead th {\n",
              "        text-align: right;\n",
              "    }\n",
              "</style>\n",
              "<table border=\"1\" class=\"dataframe\">\n",
              "  <thead>\n",
              "    <tr style=\"text-align: right;\">\n",
              "      <th></th>\n",
              "      <th>age</th>\n",
              "      <th>gender</th>\n",
              "      <th>bmi</th>\n",
              "      <th>children</th>\n",
              "      <th>smoker</th>\n",
              "      <th>region</th>\n",
              "      <th>insurance_cost</th>\n",
              "    </tr>\n",
              "  </thead>\n",
              "  <tbody>\n",
              "    <tr>\n",
              "      <th>1</th>\n",
              "      <td>18</td>\n",
              "      <td>male</td>\n",
              "      <td>34.100</td>\n",
              "      <td>0</td>\n",
              "      <td>no</td>\n",
              "      <td>southeast</td>\n",
              "      <td>1137.01100</td>\n",
              "    </tr>\n",
              "    <tr>\n",
              "      <th>2</th>\n",
              "      <td>18</td>\n",
              "      <td>female</td>\n",
              "      <td>26.315</td>\n",
              "      <td>0</td>\n",
              "      <td>no</td>\n",
              "      <td>northeast</td>\n",
              "      <td>2198.18985</td>\n",
              "    </tr>\n",
              "    <tr>\n",
              "      <th>4</th>\n",
              "      <td>18</td>\n",
              "      <td>female</td>\n",
              "      <td>35.625</td>\n",
              "      <td>0</td>\n",
              "      <td>no</td>\n",
              "      <td>northeast</td>\n",
              "      <td>2211.13075</td>\n",
              "    </tr>\n",
              "    <tr>\n",
              "      <th>6</th>\n",
              "      <td>18</td>\n",
              "      <td>female</td>\n",
              "      <td>30.115</td>\n",
              "      <td>0</td>\n",
              "      <td>no</td>\n",
              "      <td>northeast</td>\n",
              "      <td>21344.84670</td>\n",
              "    </tr>\n",
              "    <tr>\n",
              "      <th>7</th>\n",
              "      <td>18</td>\n",
              "      <td>male</td>\n",
              "      <td>23.750</td>\n",
              "      <td>0</td>\n",
              "      <td>no</td>\n",
              "      <td>northeast</td>\n",
              "      <td>1705.62450</td>\n",
              "    </tr>\n",
              "    <tr>\n",
              "      <th>...</th>\n",
              "      <td>...</td>\n",
              "      <td>...</td>\n",
              "      <td>...</td>\n",
              "      <td>...</td>\n",
              "      <td>...</td>\n",
              "      <td>...</td>\n",
              "      <td>...</td>\n",
              "    </tr>\n",
              "    <tr>\n",
              "      <th>1331</th>\n",
              "      <td>64</td>\n",
              "      <td>female</td>\n",
              "      <td>39.700</td>\n",
              "      <td>0</td>\n",
              "      <td>no</td>\n",
              "      <td>southwest</td>\n",
              "      <td>14319.03100</td>\n",
              "    </tr>\n",
              "    <tr>\n",
              "      <th>1332</th>\n",
              "      <td>64</td>\n",
              "      <td>female</td>\n",
              "      <td>35.970</td>\n",
              "      <td>0</td>\n",
              "      <td>no</td>\n",
              "      <td>southeast</td>\n",
              "      <td>14313.84630</td>\n",
              "    </tr>\n",
              "    <tr>\n",
              "      <th>1334</th>\n",
              "      <td>64</td>\n",
              "      <td>female</td>\n",
              "      <td>26.885</td>\n",
              "      <td>0</td>\n",
              "      <td>yes</td>\n",
              "      <td>northwest</td>\n",
              "      <td>29330.98315</td>\n",
              "    </tr>\n",
              "    <tr>\n",
              "      <th>1335</th>\n",
              "      <td>64</td>\n",
              "      <td>male</td>\n",
              "      <td>26.410</td>\n",
              "      <td>0</td>\n",
              "      <td>no</td>\n",
              "      <td>northeast</td>\n",
              "      <td>14394.55790</td>\n",
              "    </tr>\n",
              "    <tr>\n",
              "      <th>1337</th>\n",
              "      <td>64</td>\n",
              "      <td>male</td>\n",
              "      <td>23.760</td>\n",
              "      <td>0</td>\n",
              "      <td>yes</td>\n",
              "      <td>southeast</td>\n",
              "      <td>26926.51440</td>\n",
              "    </tr>\n",
              "  </tbody>\n",
              "</table>\n",
              "<p>574 rows × 7 columns</p>\n",
              "</div>"
            ],
            "text/plain": [
              "      age  gender     bmi  children smoker     region  insurance_cost\n",
              "1      18    male  34.100         0     no  southeast      1137.01100\n",
              "2      18  female  26.315         0     no  northeast      2198.18985\n",
              "4      18  female  35.625         0     no  northeast      2211.13075\n",
              "6      18  female  30.115         0     no  northeast     21344.84670\n",
              "7      18    male  23.750         0     no  northeast      1705.62450\n",
              "...   ...     ...     ...       ...    ...        ...             ...\n",
              "1331   64  female  39.700         0     no  southwest     14319.03100\n",
              "1332   64  female  35.970         0     no  southeast     14313.84630\n",
              "1334   64  female  26.885         0    yes  northwest     29330.98315\n",
              "1335   64    male  26.410         0     no  northeast     14394.55790\n",
              "1337   64    male  23.760         0    yes  southeast     26926.51440\n",
              "\n",
              "[574 rows x 7 columns]"
            ]
          },
          "metadata": {
            "tags": []
          },
          "execution_count": 11
        }
      ]
    },
    {
      "cell_type": "code",
      "metadata": {
        "colab": {
          "base_uri": "https://localhost:8080/"
        },
        "id": "cH8WIMcecG4W",
        "outputId": "f71cb6c6-b9db-4bf4-9e1a-ecf2d743f6e1"
      },
      "source": [
        "df[df.insurance_cost > 10000].count()"
      ],
      "execution_count": 12,
      "outputs": [
        {
          "output_type": "execute_result",
          "data": {
            "text/plain": [
              "age               626\n",
              "gender            626\n",
              "bmi               626\n",
              "children          626\n",
              "smoker            626\n",
              "region            626\n",
              "insurance_cost    626\n",
              "dtype: int64"
            ]
          },
          "metadata": {
            "tags": []
          },
          "execution_count": 12
        }
      ]
    },
    {
      "cell_type": "markdown",
      "metadata": {
        "id": "-YXPZzu5cM4L"
      },
      "source": [
        "We can see that nearly over half of the dataset have an `insurance_cost` of over 10000"
      ]
    },
    {
      "cell_type": "code",
      "metadata": {
        "colab": {
          "base_uri": "https://localhost:8080/",
          "height": 320
        },
        "id": "n-AoYKX_ccqm",
        "outputId": "50ef6e72-2bc9-4ab3-ad4a-5c52e743b72b"
      },
      "source": [
        "df.drop('insurance_cost', axis=1).boxplot(figsize=(20,5))\n",
        "plt.show()"
      ],
      "execution_count": 13,
      "outputs": [
        {
          "output_type": "display_data",
          "data": {
            "image/png": "[encoded data removed]",
            "text/plain": [
              "<Figure size 1440x360 with 1 Axes>"
            ]
          },
          "metadata": {
            "tags": [],
            "needs_background": "light"
          }
        }
      ]
    },
    {
      "cell_type": "code",
      "metadata": {
        "colab": {
          "base_uri": "https://localhost:8080/",
          "height": 283
        },
        "id": "bFfjGyFEcqOm",
        "outputId": "cd8a586b-b180-40ac-fb46-c3f2c9461cb2"
      },
      "source": [
        "df.boxplot(column=['insurance_cost'])"
      ],
      "execution_count": 14,
      "outputs": [
        {
          "output_type": "execute_result",
          "data": {
            "text/plain": [
              "<matplotlib.axes._subplots.AxesSubplot at 0x7f7ecfb32ad0>"
            ]
          },
          "metadata": {
            "tags": []
          },
          "execution_count": 14
        },
        {
          "output_type": "display_data",
          "data": {
            "image/png": "[encoded data removed]",
            "text/plain": [
              "<Figure size 432x288 with 1 Axes>"
            ]
          },
          "metadata": {
            "tags": [],
            "needs_background": "light"
          }
        }
      ]
    },
    {
      "cell_type": "code",
      "metadata": {
        "colab": {
          "base_uri": "https://localhost:8080/"
        },
        "id": "u4Ib1pRdc41B",
        "outputId": "c87b5b9d-f44c-4a53-e4b7-2293848d05d1"
      },
      "source": [
        "df[df.insurance_cost > 34000].count()"
      ],
      "execution_count": 15,
      "outputs": [
        {
          "output_type": "execute_result",
          "data": {
            "text/plain": [
              "age               144\n",
              "gender            144\n",
              "bmi               144\n",
              "children          144\n",
              "smoker            144\n",
              "region            144\n",
              "insurance_cost    144\n",
              "dtype: int64"
            ]
          },
          "metadata": {
            "tags": []
          },
          "execution_count": 15
        }
      ]
    },
    {
      "cell_type": "markdown",
      "metadata": {
        "id": "I3YmmKPtcxVT"
      },
      "source": [
        "We have a lot of outliers when it comes to the insurance cost. around 144. However all these values are acceptable"
      ]
    },
    {
      "cell_type": "code",
      "metadata": {
        "id": "vziZRl7beP89"
      },
      "source": [
        "df = pd.get_dummies(df, columns=['region','smoker','gender'], \n",
        "                        #dummy_na=True, \n",
        "                        drop_first=True)"
      ],
      "execution_count": 16,
      "outputs": []
    },
    {
      "cell_type": "code",
      "metadata": {
        "colab": {
          "base_uri": "https://localhost:8080/",
          "height": 202
        },
        "id": "mQUerFWfeX17",
        "outputId": "91cadcd5-82e2-44ff-956b-91370722751a"
      },
      "source": [
        "df.head()"
      ],
      "execution_count": 17,
      "outputs": [
        {
          "output_type": "execute_result",
          "data": {
            "text/html": [
              "<div>\n",
              "<style scoped>\n",
              "    .dataframe tbody tr th:only-of-type {\n",
              "        vertical-align: middle;\n",
              "    }\n",
              "\n",
              "    .dataframe tbody tr th {\n",
              "        vertical-align: top;\n",
              "    }\n",
              "\n",
              "    .dataframe thead th {\n",
              "        text-align: right;\n",
              "    }\n",
              "</style>\n",
              "<table border=\"1\" class=\"dataframe\">\n",
              "  <thead>\n",
              "    <tr style=\"text-align: right;\">\n",
              "      <th></th>\n",
              "      <th>age</th>\n",
              "      <th>bmi</th>\n",
              "      <th>children</th>\n",
              "      <th>insurance_cost</th>\n",
              "      <th>region_northwest</th>\n",
              "      <th>region_southeast</th>\n",
              "      <th>region_southwest</th>\n",
              "      <th>smoker_yes</th>\n",
              "      <th>gender_male</th>\n",
              "    </tr>\n",
              "  </thead>\n",
              "  <tbody>\n",
              "    <tr>\n",
              "      <th>0</th>\n",
              "      <td>18</td>\n",
              "      <td>33.770</td>\n",
              "      <td>1</td>\n",
              "      <td>1725.55230</td>\n",
              "      <td>0</td>\n",
              "      <td>1</td>\n",
              "      <td>0</td>\n",
              "      <td>0</td>\n",
              "      <td>1</td>\n",
              "    </tr>\n",
              "    <tr>\n",
              "      <th>1</th>\n",
              "      <td>18</td>\n",
              "      <td>34.100</td>\n",
              "      <td>0</td>\n",
              "      <td>1137.01100</td>\n",
              "      <td>0</td>\n",
              "      <td>1</td>\n",
              "      <td>0</td>\n",
              "      <td>0</td>\n",
              "      <td>1</td>\n",
              "    </tr>\n",
              "    <tr>\n",
              "      <th>2</th>\n",
              "      <td>18</td>\n",
              "      <td>26.315</td>\n",
              "      <td>0</td>\n",
              "      <td>2198.18985</td>\n",
              "      <td>0</td>\n",
              "      <td>0</td>\n",
              "      <td>0</td>\n",
              "      <td>0</td>\n",
              "      <td>0</td>\n",
              "    </tr>\n",
              "    <tr>\n",
              "      <th>3</th>\n",
              "      <td>18</td>\n",
              "      <td>38.665</td>\n",
              "      <td>2</td>\n",
              "      <td>3393.35635</td>\n",
              "      <td>0</td>\n",
              "      <td>0</td>\n",
              "      <td>0</td>\n",
              "      <td>0</td>\n",
              "      <td>0</td>\n",
              "    </tr>\n",
              "    <tr>\n",
              "      <th>4</th>\n",
              "      <td>18</td>\n",
              "      <td>35.625</td>\n",
              "      <td>0</td>\n",
              "      <td>2211.13075</td>\n",
              "      <td>0</td>\n",
              "      <td>0</td>\n",
              "      <td>0</td>\n",
              "      <td>0</td>\n",
              "      <td>0</td>\n",
              "    </tr>\n",
              "  </tbody>\n",
              "</table>\n",
              "</div>"
            ],
            "text/plain": [
              "   age     bmi  children  ...  region_southwest  smoker_yes  gender_male\n",
              "0   18  33.770         1  ...                 0           0            1\n",
              "1   18  34.100         0  ...                 0           0            1\n",
              "2   18  26.315         0  ...                 0           0            0\n",
              "3   18  38.665         2  ...                 0           0            0\n",
              "4   18  35.625         0  ...                 0           0            0\n",
              "\n",
              "[5 rows x 9 columns]"
            ]
          },
          "metadata": {
            "tags": []
          },
          "execution_count": 17
        }
      ]
    },
    {
      "cell_type": "code",
      "metadata": {
        "id": "RP5siw-vezM5"
      },
      "source": [
        "preprocess_pipeline = make_pipeline(StandardScaler())"
      ],
      "execution_count": 18,
      "outputs": []
    },
    {
      "cell_type": "code",
      "metadata": {
        "id": "HjuyyVGhe5js"
      },
      "source": [
        "y = df['insurance_cost']\n",
        "X = df.drop('insurance_cost', axis=1).values\n",
        "\n",
        "X_train, X_test, y_train, y_test = train_test_split(X, y, test_size=0.2, shuffle=True)"
      ],
      "execution_count": 19,
      "outputs": []
    },
    {
      "cell_type": "code",
      "metadata": {
        "colab": {
          "base_uri": "https://localhost:8080/"
        },
        "id": "v3dxRMFrfCU2",
        "outputId": "ec0bb5f5-cbe9-46de-ed97-0f7ffbd4d1ab"
      },
      "source": [
        "X.size"
      ],
      "execution_count": 20,
      "outputs": [
        {
          "output_type": "execute_result",
          "data": {
            "text/plain": [
              "10704"
            ]
          },
          "metadata": {
            "tags": []
          },
          "execution_count": 20
        }
      ]
    },
    {
      "cell_type": "code",
      "metadata": {
        "colab": {
          "base_uri": "https://localhost:8080/"
        },
        "id": "7JCrvPRofKDi",
        "outputId": "dec7e377-f467-43d9-9b21-f60497f4dd9f"
      },
      "source": [
        "y.size"
      ],
      "execution_count": 21,
      "outputs": [
        {
          "output_type": "execute_result",
          "data": {
            "text/plain": [
              "1338"
            ]
          },
          "metadata": {
            "tags": []
          },
          "execution_count": 21
        }
      ]
    },
    {
      "cell_type": "markdown",
      "metadata": {
        "id": "M7m00goDpCGj"
      },
      "source": [
        "# Random Forest"
      ]
    },
    {
      "cell_type": "code",
      "metadata": {
        "id": "4LNScDWbpFPh"
      },
      "source": [
        ""
      ],
      "execution_count": 21,
      "outputs": []
    },
    {
      "cell_type": "code",
      "metadata": {
        "id": "m9XV_-hWg2iW"
      },
      "source": [
        "pipe = Pipeline(steps=[('preprocess', preprocess_pipeline), \n",
        "                       ('reduce_dim', 'passthrough'),\n",
        "                       ('regresson', RandomForestRegressor(n_estimators=10))])"
      ],
      "execution_count": 22,
      "outputs": []
    },
    {
      "cell_type": "code",
      "metadata": {
        "colab": {
          "base_uri": "https://localhost:8080/"
        },
        "id": "IgCRgkBtpGJ8",
        "outputId": "07e182a7-e390-4a8d-cf94-ab8f81aed30c"
      },
      "source": [
        "N_FEATURES_OPTIONS = [2, 6, 11]\n",
        "MAX_DEPTH_OPTIONS = [2, 4, 6, 8]\n",
        "LINKAGE = ['ward', 'complete', 'average', 'single']\n",
        "AFFINITY = ['euclidean', 'l1', 'l2', 'manhattan', 'cosine', 'precomputed']\n",
        "\n",
        "param_grid = [\n",
        "    {\n",
        "        'reduce_dim': [PCA(iterated_power=7)],\n",
        "        'reduce_dim__n_components': N_FEATURES_OPTIONS,\n",
        "        'regresson__max_depth': MAX_DEPTH_OPTIONS\n",
        "    },\n",
        "    {\n",
        "        'reduce_dim': [RFE(svm.SVR(kernel='linear', gamma='auto')),RFE(LinearRegression())],\n",
        "        'reduce_dim__n_features_to_select': N_FEATURES_OPTIONS,\n",
        "        'regresson__max_depth': MAX_DEPTH_OPTIONS\n",
        "    },\n",
        "        {\n",
        "        'reduce_dim': [LocallyLinearEmbedding(n_components=10)],\n",
        "        'reduce_dim__n_components': N_FEATURES_OPTIONS,\n",
        "        'regresson__max_depth': MAX_DEPTH_OPTIONS\n",
        "    },\n",
        "       \n",
        "            {\n",
        "        'reduce_dim': [FastICA(n_components=3, random_state=12) ],\n",
        "        'reduce_dim__n_components': N_FEATURES_OPTIONS,\n",
        "        'regresson__max_depth': MAX_DEPTH_OPTIONS\n",
        "    },\n",
        "    {\n",
        "        'reduce_dim': [cluster.FeatureAgglomeration(n_clusters=32)],\n",
        "        'reduce_dim__linkage': LINKAGE,\n",
        "        'reduce_dim__affinity': AFFINITY\n",
        "    },\n",
        "]\n",
        "\n",
        "search = GridSearchCV(pipe, param_grid, n_jobs=-1, cv=5, refit=True)\n",
        "search.fit(X_train, y_train)\n",
        "\n",
        "print(\"Best CV score = %0.3f:\" % search.best_score_)\n",
        "print(\"Best parameters: \", search.best_params_)\n",
        "\n",
        "# store the best params and best model for later use\n",
        "RF_best_params = search.best_params_\n",
        "RF_best_model = search.best_estimator_"
      ],
      "execution_count": 23,
      "outputs": [
        {
          "output_type": "stream",
          "text": [
            "Best CV score = 0.858:\n",
            "Best parameters:  {'reduce_dim': RFE(estimator=LinearRegression(copy_X=True, fit_intercept=True, n_jobs=None,\n",
            "                               normalize=False),\n",
            "    n_features_to_select=11, step=1, verbose=0), 'reduce_dim__n_features_to_select': 11, 'regresson__max_depth': 4}\n"
          ],
          "name": "stdout"
        }
      ]
    },
    {
      "cell_type": "markdown",
      "metadata": {
        "id": "6VK-37QHpKb-"
      },
      "source": [
        "# Linear Regression"
      ]
    },
    {
      "cell_type": "code",
      "metadata": {
        "id": "clGwnf2XpNLz"
      },
      "source": [
        "pipe = Pipeline(steps=[('preprocess', preprocess_pipeline), \n",
        "                       ('reduce_dim', 'passthrough'),\n",
        "                       ('regresson', LinearRegression())])"
      ],
      "execution_count": 24,
      "outputs": []
    },
    {
      "cell_type": "code",
      "metadata": {
        "colab": {
          "base_uri": "https://localhost:8080/"
        },
        "id": "P2QdSIBWpPD-",
        "outputId": "006b3758-107d-4ed1-d2c9-863401d31f62"
      },
      "source": [
        "N_FEATURES_OPTIONS = [2, 6, 11]\n",
        "NORMALIZE_OPTIONS = [False, True]\n",
        "MAX_DEPTH_OPTIONS = [2, 4, 6, 8]\n",
        "LINKAGE = ['ward', 'complete', 'average', 'single']\n",
        "AFFINITY = ['euclidean', 'l1', 'l2', 'manhattan', 'cosine', 'precomputed']\n",
        "\n",
        "param_grid = [\n",
        "    {\n",
        "        'reduce_dim': [PCA(iterated_power=7)],\n",
        "        'reduce_dim__n_components': N_FEATURES_OPTIONS,\n",
        "        'regresson__normalize': NORMALIZE_OPTIONS\n",
        "    },\n",
        "    {\n",
        "        'reduce_dim': [RFE(svm.SVR(kernel='linear', gamma='auto')),RFE(LinearRegression())],\n",
        "        'reduce_dim__n_features_to_select': N_FEATURES_OPTIONS,\n",
        "        'regresson__normalize': NORMALIZE_OPTIONS\n",
        "    },\n",
        "    {\n",
        "        'reduce_dim': [cluster.FeatureAgglomeration(n_clusters=32)],\n",
        "        'reduce_dim__linkage': LINKAGE,\n",
        "        'reduce_dim__affinity': AFFINITY\n",
        "    },\n",
        "      \n",
        "\n",
        "]\n",
        "\n",
        "search = GridSearchCV(pipe, param_grid, n_jobs=-1, cv=5, refit=True)\n",
        "search.fit(X_train, y_train)\n",
        "print(\"Best CV score = %0.3f:\" % search.best_score_)\n",
        "print(\"Best parameters: \", search.best_params_)\n",
        "\n",
        "# store the best params and best model for later use\n",
        "LR_best_params = search.best_params_\n",
        "LR_best_model = search.best_estimator_"
      ],
      "execution_count": 25,
      "outputs": [
        {
          "output_type": "stream",
          "text": [
            "Best CV score = 0.742:\n",
            "Best parameters:  {'reduce_dim': RFE(estimator=SVR(C=1.0, cache_size=200, coef0=0.0, degree=3, epsilon=0.1,\n",
            "                  gamma='auto', kernel='linear', max_iter=-1, shrinking=True,\n",
            "                  tol=0.001, verbose=False),\n",
            "    n_features_to_select=6, step=1, verbose=0), 'reduce_dim__n_features_to_select': 6, 'regresson__normalize': False}\n"
          ],
          "name": "stdout"
        }
      ]
    },
    {
      "cell_type": "markdown",
      "metadata": {
        "id": "Z2qF9xxPc-H-"
      },
      "source": [
        "# KNN"
      ]
    },
    {
      "cell_type": "code",
      "metadata": {
        "id": "l-KVBPCo49hM"
      },
      "source": [
        "pipe = Pipeline(steps=[('preprocess', preprocess_pipeline), \n",
        "                       ('reduce_dim', 'passthrough'),\n",
        "                       ('regresson', KNeighborsRegressor())])"
      ],
      "execution_count": 26,
      "outputs": []
    },
    {
      "cell_type": "code",
      "metadata": {
        "colab": {
          "base_uri": "https://localhost:8080/"
        },
        "id": "gxujLysR5DOq",
        "outputId": "879f58e3-35cd-4834-fd9a-bcdd1b6f66de"
      },
      "source": [
        "N_FEATURES_OPTIONS = [2, 6, 11]\n",
        "NORMALIZE_OPTIONS = [False, True]\n",
        "MAX_DEPTH_OPTIONS = [2, 4, 6, 8]\n",
        "LINKAGE = ['ward', 'complete', 'average', 'single']\n",
        "AFFINITY = ['euclidean', 'l1', 'l2', 'manhattan', 'cosine', 'precomputed']\n",
        "N_NEIGHBORS = [3, 4, 5, 6, 7]\n",
        "WEIGHTS = ['uniform', 'distance']\n",
        "ALGORITHM = ['auto', 'ball_tree', 'kd_tree', 'brute']\n",
        "P = [1, 2, 3]\n",
        "\n",
        "param_grid = [\n",
        "    {\n",
        "        'reduce_dim': [PCA(iterated_power=7)],\n",
        "        'reduce_dim__n_components': N_FEATURES_OPTIONS,\n",
        "        'regresson__n_neighbors': N_NEIGHBORS,\n",
        "        'regresson__weights': WEIGHTS,\n",
        "        'regresson__algorithm': ALGORITHM,\n",
        "        'regresson__p': P\n",
        "    },\n",
        "    {\n",
        "        'reduce_dim': [RFE(svm.SVR(kernel='linear', gamma='auto')),RFE(LinearRegression())],\n",
        "        'reduce_dim__n_features_to_select': N_FEATURES_OPTIONS,\n",
        "        'regresson__n_neighbors': N_NEIGHBORS,\n",
        "        'regresson__weights': WEIGHTS,\n",
        "        'regresson__algorithm': ALGORITHM,\n",
        "        'regresson__p': P\n",
        "    },\n",
        "\n",
        "]\n",
        "\n",
        "search = GridSearchCV(pipe, param_grid, n_jobs=-1, cv=5, refit=True)\n",
        "search.fit(X_train, y_train)\n",
        "print(\"Best CV score = %0.3f:\" % search.best_score_)\n",
        "print(\"Best parameters: \", search.best_params_)\n",
        "\n",
        "# store the best params and best model for later use\n",
        "KNN_best_params = search.best_params_\n",
        "KNN_best_model = search.best_estimator_"
      ],
      "execution_count": 27,
      "outputs": [
        {
          "output_type": "stream",
          "text": [
            "Best CV score = 0.822:\n",
            "Best parameters:  {'reduce_dim': RFE(estimator=LinearRegression(copy_X=True, fit_intercept=True, n_jobs=None,\n",
            "                               normalize=False),\n",
            "    n_features_to_select=6, step=1, verbose=0), 'reduce_dim__n_features_to_select': 6, 'regresson__algorithm': 'brute', 'regresson__n_neighbors': 7, 'regresson__p': 3, 'regresson__weights': 'distance'}\n"
          ],
          "name": "stdout"
        }
      ]
    },
    {
      "cell_type": "markdown",
      "metadata": {
        "id": "3shWTs42pQhq"
      },
      "source": [
        "# Compare Models"
      ]
    },
    {
      "cell_type": "code",
      "metadata": {
        "id": "NcVM0qn9pTEv"
      },
      "source": [
        "\n",
        "def evaluate_model(X_test, y_test, model):\n",
        "    \n",
        "    # compute predictiond for the test set\n",
        "    _predicted_values = model.predict(X_test)\n",
        "        \n",
        "    # compute metrics\n",
        "    _mse = mean_squared_error(y_test, _predicted_values)\n",
        "    _mae = mean_absolute_error(y_test, _predicted_values)\n",
        "    _r2 = r2_score(y_test, _predicted_values)\n",
        "            \n",
        "    return _mse, _mae, _r2"
      ],
      "execution_count": 28,
      "outputs": []
    },
    {
      "cell_type": "code",
      "metadata": {
        "id": "x_JSY10HpUOl"
      },
      "source": [
        "RF_mse, RF_mae, RF_r2 = evaluate_model(X_test, y_test, RF_best_model)\n",
        "LR_mse, LR_mae, LR_r2 = evaluate_model(X_test, y_test, LR_best_model)\n",
        "KNN_mse, KNN_mae, KNN_r2 = evaluate_model(X_test, y_test, KNN_best_model)"
      ],
      "execution_count": 29,
      "outputs": []
    },
    {
      "cell_type": "code",
      "metadata": {
        "colab": {
          "base_uri": "https://localhost:8080/",
          "height": 331
        },
        "id": "vx9wahGypVfC",
        "outputId": "9735722d-8f0a-4209-d034-7cca58763238"
      },
      "source": [
        "df_mse = pd.DataFrame({'Random Forest': RF_mse, 'Linear Regression': LR_mse,'KNN':KNN_mse}, index=['MSE'])\n",
        "df_mae = pd.DataFrame({'Random Forest': RF_mae, 'Linear Regression': LR_mae,'KNN':KNN_mae}, index=['MAE'])\n",
        "df_r2 = pd.DataFrame({'Random Forest': RF_r2, 'Linear Regression': LR_r2,'KNN': KNN_r2}, index=['R2'])\n",
        "\n",
        "fig, axes = plt.subplots(nrows=1, ncols=3, figsize=(20, 5))\n",
        "\n",
        "df_mse.plot.bar(rot=0, ax=axes[0])\n",
        "df_mae.plot.bar(rot=0, ax=axes[1])\n",
        "df_r2.plot.bar(rot=0, ax=axes[2])\n",
        "\n",
        "plt.show()"
      ],
      "execution_count": 30,
      "outputs": [
        {
          "output_type": "display_data",
          "data": {
            "image/png": "[encoded data removed]",
            "text/plain": [
              "<Figure size 1440x360 with 3 Axes>"
            ]
          },
          "metadata": {
            "tags": [],
            "needs_background": "light"
          }
        }
      ]
    },
    {
      "cell_type": "markdown",
      "metadata": {
        "id": "gX2EXOCLqKKD"
      },
      "source": [
        "From running our data through the models we can see that the RF is best suited due to its low MSE and MAE score along with its high R2 score. KNN is mid way between RF and LR but still does not outperform RF in nay area. However LR performs the works in all areas.\n",
        "\n",
        "Random Forest will be our chosen regressor\n",
        "\n",
        "RF had a score of: 0.858\n",
        "KNN had a score of:0.822\n",
        "LR had a score of: 0.742\n"
      ]
    },
    {
      "cell_type": "markdown",
      "metadata": {
        "id": "_lSlCgl0oSzQ"
      },
      "source": [
        "# Train the Final Model"
      ]
    },
    {
      "cell_type": "markdown",
      "metadata": {
        "id": "lElBKSsrWneq"
      },
      "source": [
        "The regressor I will train the entire dataset with is GradientBoostingRegressor as it has the best performance of the new regressors implemented."
      ]
    },
    {
      "cell_type": "code",
      "metadata": {
        "id": "lOeGHSIP3Vvj"
      },
      "source": [
        "# function to remove the string 'regresson__' from the names of the best parameters\n",
        "def transform(dict, prefix):\n",
        "    dict_prefix = {key:value for key,value in dict.items() if prefix in key}\n",
        "    return {key.replace(prefix,''):value for key,value in dict_prefix.items()}\n",
        "\n",
        "pipe = make_pipeline(preprocess_pipeline, \n",
        "                     RF_best_params.get('reduce_dim'),\n",
        "                     RandomForestRegressor(n_estimators=10, **transform(RF_best_params, 'regresson__')))\n",
        "\n",
        "final_model = pipe.fit(X, y)"
      ],
      "execution_count": 31,
      "outputs": []
    },
    {
      "cell_type": "markdown",
      "metadata": {
        "id": "xrj5kMDWoKEJ"
      },
      "source": [
        "The final model can now be exported and saved for further use."
      ]
    },
    {
      "cell_type": "code",
      "metadata": {
        "id": "YyKtbwPl3ccr"
      },
      "source": [
        "filename = 'final_model.sav'\n",
        "pickle.dump(final_model, open(filename, 'wb'))\n",
        "\n",
        "# files.download('final_model.sav')"
      ],
      "execution_count": 32,
      "outputs": []
    },
    {
      "cell_type": "markdown",
      "metadata": {
        "id": "SP1QfgWzrWav"
      },
      "source": [
        ""
      ]
    }
  ]
}