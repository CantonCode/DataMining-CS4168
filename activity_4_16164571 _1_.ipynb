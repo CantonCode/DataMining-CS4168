{
  "nbformat": 4,
  "nbformat_minor": 0,
  "metadata": {
    "colab": {
      "name": "activity 4 16164571",
      "provenance": [],
      "collapsed_sections": []
    },
    "kernelspec": {
      "name": "python3",
      "display_name": "Python 3"
    },
    "language_info": {
      "name": "python"
    }
  },
  "cells": [
    {
      "cell_type": "markdown",
      "metadata": {
        "id": "_TFQoJlur-zr"
      },
      "source": [
        "# Imports"
      ]
    },
    {
      "cell_type": "code",
      "metadata": {
        "id": "KUjJLaRa0J5k"
      },
      "source": [
        "import pandas as pd\n",
        "import numpy as np\n",
        "from sklearn.pipeline import Pipeline, make_pipeline, FeatureUnion\n",
        "from sklearn.compose import ColumnTransformer\n",
        "from sklearn.base import BaseEstimator, TransformerMixin\n",
        "from sklearn.preprocessing import StandardScaler, RobustScaler, FunctionTransformer\n",
        "from sklearn.model_selection import train_test_split, GridSearchCV\n",
        "from sklearn import svm\n",
        "from sklearn.ensemble import RandomForestClassifier\n",
        "from sklearn.metrics import roc_curve, auc, accuracy_score, precision_recall_fscore_support\n",
        "from scipy import interp\n",
        "from sklearn.cluster import KMeans\n",
        "from sklearn.neural_network import MLPClassifier\n",
        "import pickle\n",
        "import matplotlib.pyplot as plt"
      ],
      "execution_count": 64,
      "outputs": []
    },
    {
      "cell_type": "code",
      "metadata": {
        "id": "aJn4963H1-es"
      },
      "source": [
        ""
      ],
      "execution_count": 64,
      "outputs": []
    },
    {
      "cell_type": "markdown",
      "metadata": {
        "id": "HRM1gjQAr4ze"
      },
      "source": [
        "# Setup and Data Examination\n"
      ]
    },
    {
      "cell_type": "markdown",
      "metadata": {
        "id": "i2O48VfC2AGP"
      },
      "source": [
        "Read in data set\n"
      ]
    },
    {
      "cell_type": "code",
      "metadata": {
        "colab": {
          "base_uri": "https://localhost:8080/",
          "height": 219
        },
        "id": "LpeultCY14PS",
        "outputId": "47ac0986-e53a-4e43-e8ab-0405f9a93f95"
      },
      "source": [
        "#Read in seeds csv file\n",
        "df = pd.read_csv(\"./seeds.csv\")\n",
        "\n",
        "df.head()"
      ],
      "execution_count": 65,
      "outputs": [
        {
          "output_type": "execute_result",
          "data": {
            "text/html": [
              "<div>\n",
              "<style scoped>\n",
              "    .dataframe tbody tr th:only-of-type {\n",
              "        vertical-align: middle;\n",
              "    }\n",
              "\n",
              "    .dataframe tbody tr th {\n",
              "        vertical-align: top;\n",
              "    }\n",
              "\n",
              "    .dataframe thead th {\n",
              "        text-align: right;\n",
              "    }\n",
              "</style>\n",
              "<table border=\"1\" class=\"dataframe\">\n",
              "  <thead>\n",
              "    <tr style=\"text-align: right;\">\n",
              "      <th></th>\n",
              "      <th>area</th>\n",
              "      <th>perimeter</th>\n",
              "      <th>compactness</th>\n",
              "      <th>length of kernel</th>\n",
              "      <th>width of kernel</th>\n",
              "      <th>asymmetry coefficient</th>\n",
              "      <th>length of kernel groove</th>\n",
              "      <th>type</th>\n",
              "    </tr>\n",
              "  </thead>\n",
              "  <tbody>\n",
              "    <tr>\n",
              "      <th>0</th>\n",
              "      <td>15.26</td>\n",
              "      <td>14.84</td>\n",
              "      <td>0.8710</td>\n",
              "      <td>5.763</td>\n",
              "      <td>3.312</td>\n",
              "      <td>2.221</td>\n",
              "      <td>5.220</td>\n",
              "      <td>1</td>\n",
              "    </tr>\n",
              "    <tr>\n",
              "      <th>1</th>\n",
              "      <td>14.88</td>\n",
              "      <td>14.57</td>\n",
              "      <td>0.8811</td>\n",
              "      <td>5.554</td>\n",
              "      <td>3.333</td>\n",
              "      <td>1.018</td>\n",
              "      <td>4.956</td>\n",
              "      <td>1</td>\n",
              "    </tr>\n",
              "    <tr>\n",
              "      <th>2</th>\n",
              "      <td>14.29</td>\n",
              "      <td>14.09</td>\n",
              "      <td>0.9050</td>\n",
              "      <td>5.291</td>\n",
              "      <td>3.337</td>\n",
              "      <td>2.699</td>\n",
              "      <td>4.825</td>\n",
              "      <td>1</td>\n",
              "    </tr>\n",
              "    <tr>\n",
              "      <th>3</th>\n",
              "      <td>13.84</td>\n",
              "      <td>13.94</td>\n",
              "      <td>0.8955</td>\n",
              "      <td>5.324</td>\n",
              "      <td>3.379</td>\n",
              "      <td>2.259</td>\n",
              "      <td>4.805</td>\n",
              "      <td>1</td>\n",
              "    </tr>\n",
              "    <tr>\n",
              "      <th>4</th>\n",
              "      <td>16.14</td>\n",
              "      <td>14.99</td>\n",
              "      <td>0.9034</td>\n",
              "      <td>5.658</td>\n",
              "      <td>3.562</td>\n",
              "      <td>1.355</td>\n",
              "      <td>5.175</td>\n",
              "      <td>1</td>\n",
              "    </tr>\n",
              "  </tbody>\n",
              "</table>\n",
              "</div>"
            ],
            "text/plain": [
              "    area  perimeter  ...  length of kernel groove  type\n",
              "0  15.26      14.84  ...                    5.220     1\n",
              "1  14.88      14.57  ...                    4.956     1\n",
              "2  14.29      14.09  ...                    4.825     1\n",
              "3  13.84      13.94  ...                    4.805     1\n",
              "4  16.14      14.99  ...                    5.175     1\n",
              "\n",
              "[5 rows x 8 columns]"
            ]
          },
          "metadata": {
            "tags": []
          },
          "execution_count": 65
        }
      ]
    },
    {
      "cell_type": "code",
      "metadata": {
        "colab": {
          "base_uri": "https://localhost:8080/"
        },
        "id": "Y2-peEb_Jvbl",
        "outputId": "13d33977-7bc9-4feb-f744-8ff4be9aa137"
      },
      "source": [
        "df['type'].value_counts()"
      ],
      "execution_count": 66,
      "outputs": [
        {
          "output_type": "execute_result",
          "data": {
            "text/plain": [
              "3    70\n",
              "2    70\n",
              "1    70\n",
              "Name: type, dtype: int64"
            ]
          },
          "metadata": {
            "tags": []
          },
          "execution_count": 66
        }
      ]
    },
    {
      "cell_type": "markdown",
      "metadata": {
        "id": "Xpc5Uvk9J-uw"
      },
      "source": [
        "From examining the different types of seeds we can see that there is an even ratio of seeds to eachother.As we are dealing with binary classification, we will have to change this type later in our program."
      ]
    },
    {
      "cell_type": "code",
      "metadata": {
        "colab": {
          "base_uri": "https://localhost:8080/"
        },
        "id": "xmdUVibTKhfu",
        "outputId": "09183f2a-730d-477e-8def-746762735e3f"
      },
      "source": [
        "df.isna().sum()"
      ],
      "execution_count": 67,
      "outputs": [
        {
          "output_type": "execute_result",
          "data": {
            "text/plain": [
              "area                       0\n",
              "perimeter                  0\n",
              "compactness                0\n",
              "length of kernel           0\n",
              "width of kernel            0\n",
              "asymmetry coefficient      0\n",
              "length of kernel groove    0\n",
              "type                       0\n",
              "dtype: int64"
            ]
          },
          "metadata": {
            "tags": []
          },
          "execution_count": 67
        }
      ]
    },
    {
      "cell_type": "markdown",
      "metadata": {
        "id": "SWyz1X-qKqgo"
      },
      "source": [
        "We do not have any missing values."
      ]
    },
    {
      "cell_type": "code",
      "metadata": {
        "colab": {
          "base_uri": "https://localhost:8080/",
          "height": 215
        },
        "id": "cCdvLYQ_Kuwm",
        "outputId": "f3b97f7b-3db6-46af-e0ee-3fcb8e15a188"
      },
      "source": [
        "df.boxplot(figsize=(20,5))\n",
        "plt.show()"
      ],
      "execution_count": 68,
      "outputs": [
        {
          "output_type": "display_data",
          "data": {
            "image/png": "[encoded data removed]",
            "text/plain": [
              "<Figure size 1440x360 with 1 Axes>"
            ]
          },
          "metadata": {
            "tags": [],
            "needs_background": "light"
          }
        }
      ]
    },
    {
      "cell_type": "markdown",
      "metadata": {
        "id": "L2Hbrc_CL7KR"
      },
      "source": [
        "From reviewing the plot we can conclude that the only outlier is present in asymmetry coefficient. Even though this outlier is not too big it is important to treat the outliers. For this I will be RobustScalar to deal with the outliers."
      ]
    },
    {
      "cell_type": "markdown",
      "metadata": {
        "id": "adQxqEgzMleX"
      },
      "source": [
        "# Transormation to Binary"
      ]
    },
    {
      "cell_type": "code",
      "metadata": {
        "id": "Z0JxlPP3M8gx"
      },
      "source": [
        "mapper = {1 : 1\n",
        "           , 2 : 0,\n",
        "           3: 0 }\n",
        "df['type'] = df['type'].replace(mapper)\n"
      ],
      "execution_count": 69,
      "outputs": []
    },
    {
      "cell_type": "markdown",
      "metadata": {
        "id": "dtcOZsUXNIVH"
      },
      "source": [
        "We then check the value counts in order to see how the transformation changed the data"
      ]
    },
    {
      "cell_type": "code",
      "metadata": {
        "colab": {
          "base_uri": "https://localhost:8080/"
        },
        "id": "-_QovaGUNPBv",
        "outputId": "4bb64789-d7db-43dc-b58d-e056872addfd"
      },
      "source": [
        "\n",
        "df['type'].value_counts()"
      ],
      "execution_count": 70,
      "outputs": [
        {
          "output_type": "execute_result",
          "data": {
            "text/plain": [
              "0    140\n",
              "1     70\n",
              "Name: type, dtype: int64"
            ]
          },
          "metadata": {
            "tags": []
          },
          "execution_count": 70
        }
      ]
    },
    {
      "cell_type": "markdown",
      "metadata": {
        "id": "YQJbtimMNgJL"
      },
      "source": [
        "# Data Preprocessing"
      ]
    },
    {
      "cell_type": "code",
      "metadata": {
        "id": "6AWbsImANnfi"
      },
      "source": [
        "# store a list with the names of all predictors\n",
        "names_all = [c for c in df if c not in ['type']]\n",
        "\n",
        "# define column groups with same data preparation\n",
        "names_outliers = ['asymmetry coefficient','compactness']\n",
        "names_no_outliers = list(set(names_all) - set(names_outliers))"
      ],
      "execution_count": 71,
      "outputs": []
    },
    {
      "cell_type": "code",
      "metadata": {
        "id": "DTk_kkybN7u1"
      },
      "source": [
        "class AddColumnNames(BaseEstimator, TransformerMixin):\n",
        "    def __init__(self, columns):\n",
        "        self.columns = columns\n",
        "\n",
        "    def fit(self, X, y=None):\n",
        "        return self\n",
        "\n",
        "    def transform(self, X):\n",
        "        return pd.DataFrame(data=X, columns=self.columns)"
      ],
      "execution_count": 72,
      "outputs": []
    },
    {
      "cell_type": "code",
      "metadata": {
        "id": "evuXz1GUOC8q"
      },
      "source": [
        "class ColumnSelector(BaseEstimator, TransformerMixin):\n",
        "    def __init__(self, columns):\n",
        "        self.columns = columns\n",
        "\n",
        "    def fit(self, X, y=None):\n",
        "        return self\n",
        "\n",
        "    def transform(self, X):\n",
        "        assert isinstance(X, pd.DataFrame)\n",
        "        return X[self.columns]"
      ],
      "execution_count": 73,
      "outputs": []
    },
    {
      "cell_type": "code",
      "metadata": {
        "id": "1zeg66DHOHSD"
      },
      "source": [
        "\n",
        "preprocess_pipeline = make_pipeline(\n",
        "    AddColumnNames(columns=names_all),\n",
        "    FeatureUnion(transformer_list=[\n",
        "        (\"outlier_columns\", make_pipeline(\n",
        "            ColumnSelector(columns=names_outliers),\n",
        "            FunctionTransformer(np.log, validate=True),\n",
        "            RobustScaler()\n",
        "        )),\n",
        "        (\"no_outlier_columns\", make_pipeline(\n",
        "            ColumnSelector(columns=names_no_outliers),\n",
        "            StandardScaler()\n",
        "        ))\n",
        "    ])\n",
        ")"
      ],
      "execution_count": 74,
      "outputs": []
    },
    {
      "cell_type": "code",
      "metadata": {
        "id": "dZXyvhWaORPK"
      },
      "source": [
        "y = df['type']\n",
        "X = df.drop('type', axis=1).values\n",
        "\n",
        "X_train, X_test, y_train, y_test = train_test_split(X, y, test_size=0.2, shuffle=True, stratify=y)"
      ],
      "execution_count": 75,
      "outputs": []
    },
    {
      "cell_type": "markdown",
      "metadata": {
        "id": "ZsKl0Z3JrGED"
      },
      "source": [
        "Before feeding our data into the classifiers we spit the data into training and testing data. We split these at a ratio for 80/20%"
      ]
    },
    {
      "cell_type": "markdown",
      "metadata": {
        "id": "JxtiMcZTA-5K"
      },
      "source": [
        "# Classifiers\n",
        "\n"
      ]
    },
    {
      "cell_type": "markdown",
      "metadata": {
        "id": "fMlUwxgMnVXu"
      },
      "source": [
        "**SVM Classifier**"
      ]
    },
    {
      "cell_type": "code",
      "metadata": {
        "colab": {
          "base_uri": "https://localhost:8080/"
        },
        "id": "5hLqMkmMA-uQ",
        "outputId": "94a2f47e-a820-4dd9-8634-9d94bf9ce110"
      },
      "source": [
        "# create pipeline with SVM classifier\n",
        "pipe = Pipeline(steps=[('preprocess', preprocess_pipeline), ('svm', svm.SVC(probability=True))])\n",
        "\n",
        "#Different values for the parameters of SVM - Not an exhausted list.\n",
        "param_grid = {\n",
        "    'svm__C': [0.1, 1, 10, 50, 100, 200],  \n",
        "    'svm__gamma': [1, 0.1, 0.01, 0.001], \n",
        "    'svm__kernel': ['rbf', 'linear', 'poly']}\n",
        "\n",
        "search = GridSearchCV(pipe, param_grid, cv=10, refit=True)\n",
        "search.fit(X_train, y_train)\n",
        "print(\"Best CV score = %0.3f:\" % search.best_score_)\n",
        "print(\"Best parameters: \", search.best_params_)\n",
        "\n",
        "# store the best params and best model for later use\n",
        "SVM_best_params = search.best_params_\n",
        "SVM_best_model = search.best_estimator_"
      ],
      "execution_count": 76,
      "outputs": [
        {
          "output_type": "stream",
          "text": [
            "Best CV score = 0.970:\n",
            "Best parameters:  {'svm__C': 200, 'svm__gamma': 1, 'svm__kernel': 'linear'}\n"
          ],
          "name": "stdout"
        }
      ]
    },
    {
      "cell_type": "markdown",
      "metadata": {
        "id": "kFmS5LyZnaUq"
      },
      "source": [
        "**Random Forest Classifier**"
      ]
    },
    {
      "cell_type": "code",
      "metadata": {
        "colab": {
          "base_uri": "https://localhost:8080/"
        },
        "id": "ZNFJSippB6Xa",
        "outputId": "dabf0e6f-9503-4688-e953-e17b1ae63828"
      },
      "source": [
        "# create pipeline with Random Forest Classifier\n",
        "pipe = Pipeline(steps=[('preprocess', preprocess_pipeline), ('rf', RandomForestClassifier())])\n",
        "\n",
        "#Different values for the parameters of Random Forest - not an exhausted list\n",
        "param_grid = {\n",
        "    'rf__n_estimators' : [10,15,20,30,50],\n",
        "    'rf__max_depth': [2, 4, 6, 8, 10]\n",
        "}\n",
        "\n",
        "search = GridSearchCV(pipe, param_grid, cv=10, refit=True)\n",
        "search.fit(X_train, y_train)\n",
        "print(\"Best CV score = %0.3f:\" % search.best_score_)\n",
        "print(\"Best parameters: \", search.best_params_)\n",
        "\n",
        "# store the best params and best model for later use\n",
        "RF_best_params = search.best_params_\n",
        "RF_best_model = search.best_estimator_"
      ],
      "execution_count": 77,
      "outputs": [
        {
          "output_type": "stream",
          "text": [
            "Best CV score = 0.922:\n",
            "Best parameters:  {'rf__max_depth': 6, 'rf__n_estimators': 30}\n"
          ],
          "name": "stdout"
        }
      ]
    },
    {
      "cell_type": "markdown",
      "metadata": {
        "id": "mSdnkcU5neQf"
      },
      "source": [
        "**KNN Classifier**"
      ]
    },
    {
      "cell_type": "code",
      "metadata": {
        "colab": {
          "base_uri": "https://localhost:8080/"
        },
        "id": "bNU0QYPzE0Zx",
        "outputId": "b634d14c-c0c3-4705-f155-afda6cdbc2c8"
      },
      "source": [
        "from sklearn.neighbors import KNeighborsClassifier\n",
        "# create the pipeline\n",
        "pipe = Pipeline(steps=[('preprocess', preprocess_pipeline), ('knn', KNeighborsClassifier())])\n",
        "\n",
        "# prepare a prameter grid\n",
        "param_grid = {\n",
        "    'knn__weights' : ['uniform', 'distance'],\n",
        "    'knn__algorithm': ['auto', 'ball_tree', 'kd_tree', 'brute']\n",
        "}\n",
        "\n",
        "search = GridSearchCV(pipe, param_grid, cv=10,refit=True)\n",
        "search.fit(X_train, y_train)\n",
        "print(\"Best CV score = %0.3f:\" % search.best_score_)\n",
        "print(\"Best parameters: \", search.best_params_)\n",
        "\n",
        "# store the best params and best model for later use\n",
        "KNN_best_params = search.best_params_\n",
        "KNN_best_model = search.best_estimator_"
      ],
      "execution_count": 78,
      "outputs": [
        {
          "output_type": "stream",
          "text": [
            "Best CV score = 0.910:\n",
            "Best parameters:  {'knn__algorithm': 'auto', 'knn__weights': 'uniform'}\n"
          ],
          "name": "stdout"
        }
      ]
    },
    {
      "cell_type": "markdown",
      "metadata": {
        "id": "SoEMWN4eniQC"
      },
      "source": [
        "# Comparison\n"
      ]
    },
    {
      "cell_type": "markdown",
      "metadata": {
        "id": "_JSB3cPvqglg"
      },
      "source": [
        "We will now look at all the classifiers to determine which is the best to use for this situation.\n",
        "\n",
        "The metrics that will be examined are\n",
        "\n",
        "- accuracy\n",
        "- precisions\n",
        "- recall\n",
        "- F1-score\n",
        "- TPR (true positive rate)\n",
        "- AUC (area under the ROC curve)"
      ]
    },
    {
      "cell_type": "code",
      "metadata": {
        "id": "VOfcGC57FB7O"
      },
      "source": [
        "mean_fpr = np.linspace(start=0, stop=1, num=100)"
      ],
      "execution_count": 79,
      "outputs": []
    },
    {
      "cell_type": "code",
      "metadata": {
        "id": "h0TnRitfFF5G"
      },
      "source": [
        "def evaluate_model(X_test, y_test, model):\n",
        "    # compute probabilistic predictiond for the evaluation set\n",
        "    _probabilities = model.predict_proba(X_test)[:, 1]\n",
        "    \n",
        "    # compute exact predictiond for the evaluation set\n",
        "    _predicted_values = model.predict(X_test)\n",
        "        \n",
        "    # compute accuracy\n",
        "    _accuracy = accuracy_score(y_test, _predicted_values)\n",
        "        \n",
        "    # compute precision, recall and f1 score for class 1\n",
        "    _precision, _recall, _f1_score, _ = precision_recall_fscore_support(y_test, _predicted_values, labels=[1])\n",
        "    \n",
        "    # compute fpr and tpr values for various thresholds \n",
        "    # by comparing the true target values to the predicted probabilities for class 1\n",
        "    _fpr, _tpr, _ = roc_curve(y_test, _probabilities)\n",
        "        \n",
        "    # compute true positive rates for the values in the array mean_fpr\n",
        "    _tpr_transformed = np.array([interp(mean_fpr, _fpr, _tpr)])\n",
        "    \n",
        "    # compute the area under the curve\n",
        "    _auc = auc(_fpr, _tpr)\n",
        "            \n",
        "    return _accuracy, _precision[0], _recall[0], _f1_score[0], _tpr_transformed, _auc"
      ],
      "execution_count": 80,
      "outputs": []
    },
    {
      "cell_type": "code",
      "metadata": {
        "colab": {
          "base_uri": "https://localhost:8080/"
        },
        "id": "EXNqLvX7LQpt",
        "outputId": "c4184d07-16e9-472c-e8c3-a8e3bc00d13b"
      },
      "source": [
        "SVM_accuracy, SVM_precision, SVM_recall, SVM_f1_score, SVM_tpr, SVM_auc = evaluate_model(X_test, y_test, SVM_best_model)\n",
        "RF_accuracy, RF_precision, RF_recall, RF_f1_score, RF_tpr, RF_auc = evaluate_model(X_test, y_test, RF_best_model)\n",
        "KNN_accuracy, KNN_precision, KNN_recall, KNN_f1_score, KNN_tpr, KNN_auc = evaluate_model(X_test, y_test, KNN_best_model)"
      ],
      "execution_count": 81,
      "outputs": [
        {
          "output_type": "stream",
          "text": [
            "/usr/local/lib/python3.7/dist-packages/ipykernel_launcher.py:19: DeprecationWarning: scipy.interp is deprecated and will be removed in SciPy 2.0.0, use numpy.interp instead\n",
            "/usr/local/lib/python3.7/dist-packages/ipykernel_launcher.py:19: DeprecationWarning: scipy.interp is deprecated and will be removed in SciPy 2.0.0, use numpy.interp instead\n",
            "/usr/local/lib/python3.7/dist-packages/ipykernel_launcher.py:19: DeprecationWarning: scipy.interp is deprecated and will be removed in SciPy 2.0.0, use numpy.interp instead\n"
          ],
          "name": "stderr"
        }
      ]
    },
    {
      "cell_type": "markdown",
      "metadata": {
        "id": "VWOcyUohnmuG"
      },
      "source": [
        "We examine and compare the accuracy, precision, recall and f1 score of the models in order to make a final observation"
      ]
    },
    {
      "cell_type": "code",
      "metadata": {
        "colab": {
          "base_uri": "https://localhost:8080/",
          "height": 265
        },
        "id": "lV0bU6xuLW7q",
        "outputId": "5325828d-e0ef-45e9-a2f8-c99b7faefc87"
      },
      "source": [
        "SVM_metrics = np.array([SVM_accuracy, SVM_precision, SVM_recall, SVM_f1_score])\n",
        "RF_metrics = np.array([RF_accuracy, RF_precision, RF_recall, RF_f1_score])\n",
        "KNN_metrics = np.array([KNN_accuracy, KNN_precision, KNN_recall, KNN_f1_score])\n",
        "\n",
        "\n",
        "index = ['accuracy', 'precision', 'recall', 'F1-score']\n",
        "df_metrics = pd.DataFrame({'SVM': SVM_metrics, 'Random Forest': RF_metrics,'KNN': KNN_metrics}, index=index)\n",
        "df_metrics.plot.bar(rot=0)\n",
        "plt.legend(loc=\"lower right\")\n",
        "plt.show()"
      ],
      "execution_count": 82,
      "outputs": [
        {
          "output_type": "display_data",
          "data": {
            "image/png": "[encoded data removed]",
            "text/plain": [
              "<Figure size 432x288 with 1 Axes>"
            ]
          },
          "metadata": {
            "tags": [],
            "needs_background": "light"
          }
        }
      ]
    },
    {
      "cell_type": "code",
      "metadata": {
        "colab": {
          "base_uri": "https://localhost:8080/",
          "height": 295
        },
        "id": "IBMotWJbLcRc",
        "outputId": "d9d6d20c-6f8a-47f5-8a2e-d42158d90707"
      },
      "source": [
        "plt.plot([0, 1], [0, 1], linestyle='--', lw=2, color='r', label='Chance', alpha=0.8)\n",
        "plt.plot(mean_fpr, SVM_tpr[0,:], lw=2, color='blue', label='SVM (AUC = %0.2f)' % (SVM_auc), alpha=0.8)\n",
        "plt.plot(mean_fpr, RF_tpr[0,:], lw=2, color='orange', label='Random Forest (AUC = %0.2f)' % (RF_auc), alpha=0.8)\n",
        "plt.plot(mean_fpr, KNN_tpr[0,:], lw=2, color='yellow', label='KNN (AUC = %0.2f)' % (KNN_auc), alpha=0.8)\n",
        "\n",
        "plt.xlabel('False Positive Rate')\n",
        "plt.ylabel('True Positive Rate')\n",
        "plt.title('ROC curves for multiple classifiers')\n",
        "plt.legend(loc=\"lower right\")\n",
        "plt.show()"
      ],
      "execution_count": 83,
      "outputs": [
        {
          "output_type": "display_data",
          "data": {
            "image/png": "[encoded data removed]",
            "text/plain": [
              "<Figure size 432x288 with 1 Axes>"
            ]
          },
          "metadata": {
            "tags": [],
            "needs_background": "light"
          }
        }
      ]
    },
    {
      "cell_type": "markdown",
      "metadata": {
        "id": "as8t_O1Dozlf"
      },
      "source": [
        "# Conclusion"
      ]
    },
    {
      "cell_type": "markdown",
      "metadata": {
        "id": "t6k1OdJzo2NQ"
      },
      "source": [
        "To sum up the comaprison of the models it is clear that the SVM Classifier is the most accurate but this however is very closely followed by the KNN in this current situation.\n",
        "If the code is ran again this may change however\n",
        "\n",
        "The scores for accuracy, precision, recall and f1 score while looking at SVM and KNN were all really close while Random Forest was sligtly lacking in all areas. \n",
        "\n",
        "RF is the lowest scoring overall\n",
        "SVM is the highest scoring and will be the model of choice\n",
        "\n",
        "In the ROC test we can see that the models prove a to be a lot more accurate than chance. The AUC values of SVM and KNN were the same at 0.99 while RF was 0.98"
      ]
    },
    {
      "cell_type": "markdown",
      "metadata": {
        "id": "lPbgjuKyqR6B"
      },
      "source": [
        "# Training a final model"
      ]
    },
    {
      "cell_type": "code",
      "metadata": {
        "id": "zuwbNtKyqQ1p"
      },
      "source": [
        "# function to remove the string 'svm__' from the names of the parameters in SVM_best_params\n",
        "def transform(dict):\n",
        "    return {key.replace('svm__','') :  value for key, value in dict.items()}\n",
        "\n",
        "pipe = make_pipeline(preprocess_pipeline, svm.SVC(**transform(SVM_best_params)))\n",
        "\n",
        "final_model =pipe.fit(X, y)"
      ],
      "execution_count": 85,
      "outputs": []
    },
    {
      "cell_type": "code",
      "metadata": {
        "id": "a5sBbaMspHQh"
      },
      "source": [
        ""
      ],
      "execution_count": null,
      "outputs": []
    }
  ]
}